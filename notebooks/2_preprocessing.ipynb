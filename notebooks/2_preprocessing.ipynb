{
 "cells": [
  {
   "cell_type": "code",
   "execution_count": 3,
   "id": "13aa6b9e",
   "metadata": {},
   "outputs": [],
   "source": [
    "import numpy as np\n",
    "import pandas as pd\n",
    "\n",
    "import os"
   ]
  },
  {
   "cell_type": "code",
   "execution_count": 39,
   "id": "c01d8057",
   "metadata": {},
   "outputs": [],
   "source": [
    "path = os.getcwd()\n",
    "\n",
    "fish_df = pd.read_csv(path + r\"\\data\\db1\\ref\\fish.csv\", error_bad_lines=False, sep=';')\n",
    "prod_designate_df = pd.read_csv(path + r\"\\data\\db1\\ref\\prod_designate.csv\", error_bad_lines=False, sep=';')\n",
    "prod_type_df = pd.read_csv(path + r\"\\data\\db1\\ref\\prod_type.csv\", error_bad_lines=False, sep=';')\n",
    "regime_df = pd.read_csv(path + r\"\\data\\db1\\ref\\regime.csv\", error_bad_lines=False, sep=';')\n",
    "region_df = pd.read_csv(path + r\"\\data\\db1\\ref\\region.csv\", error_bad_lines=False, sep=';')\n",
    "\n",
    "\n",
    "catch_df = pd.read_csv(path + r'\\data\\db1\\catch.csv', error_bad_lines=False, sep=',')\n",
    "\n",
    "# Подмена данных + нормализация\n",
    "def spoofing(id):\n",
    "    return fish_df[fish_df['id_fish'] == id]['fish'].values[0]\n",
    "catch_df['id_fish'] = catch_df['id_fish'].apply(spoofing)\n",
    "catch_df['catch_volume'] = catch_df['catch_volume']*1000\n",
    "\n",
    "product_df = pd.read_csv(path + r'\\data\\db1\\product.csv', error_bad_lines=False, sep=',')\n",
    "\n",
    "ext1 = pd.read_csv(path + r\"\\data\\db2\\Ext.csv\", error_bad_lines=False, sep=',')\n",
    "ext2 = pd.read_csv(path + r\"\\data\\db2\\Ext2.csv\", error_bad_lines=False, sep=',')"
   ]
  },
  {
   "cell_type": "code",
   "execution_count": 5,
   "id": "69583848",
   "metadata": {},
   "outputs": [],
   "source": [
    "# Сводная таблица по всем поступлениям согласно IdFish и выбранного промежутка времени.\n",
    "def calculatingSummOfFish(fish_id, date_start, date_end):\n",
    "    # смотрим по всем выловам этой рыбы\n",
    "    data = catch_df[catch_df['id_fish'] == fish_id]\n",
    "    # уникальные номера кораблей ловящих только эту рыбу\n",
    "    ships = list(set(data['id_ves'].to_list()))\n",
    "    \n",
    "    # создаю датафрейм с владельцами и выловом по судам    \n",
    "    total_df = pd.DataFrame()\n",
    "    \n",
    "    total_ships = []\n",
    "    total_owners = []\n",
    "    total_catches = []\n",
    "    \n",
    "    # добавляем в общую кашу дату и документируем владельцев\n",
    "    for ship in ships:\n",
    "        ship_data = data[data['id_ves'] == ship]\n",
    "        owners = list(set(ship_data['id_own'].to_list()))\n",
    "        \n",
    "        for owner in owners:\n",
    "            ship_owner_data = ship_data[ship_data['id_own'] == owner]\n",
    "            \n",
    "            try:\n",
    "                ship_owner_end_data = ship_owner_data[ship_owner_data['date'] < date_end]\n",
    "                ship_owner_start_end_data = ship_owner_end_data[ship_owner_end_data['date'] > date_start]\n",
    "                total_catch = ship_owner_start_end_data['catch_volume'].sum()\n",
    "            except e:\n",
    "                print(e)\n",
    "            \n",
    "            if total_catch > 0:\n",
    "                total_catches.append(total_catch)\n",
    "                total_ships.append(ship)\n",
    "                total_owners.append(owner)\n",
    "            \n",
    "    total_df['total_catches'] = total_catches\n",
    "    total_df['ship'] = total_ships\n",
    "    total_df['owner'] = total_owners\n",
    "    \n",
    "    return total_df"
   ]
  },
  {
   "cell_type": "code",
   "execution_count": 6,
   "id": "641525e7",
   "metadata": {},
   "outputs": [
    {
     "data": {
      "text/plain": [
       "<AxesSubplot:>"
      ]
     },
     "execution_count": 6,
     "metadata": {},
     "output_type": "execute_result"
    },
    {
     "data": {
      "image/png": "[encoded data removed]",
      "text/plain": [
       "<Figure size 432x288 with 2 Axes>"
      ]
     },
     "metadata": {
      "needs_background": "light"
     },
     "output_type": "display_data"
    }
   ],
   "source": [
    "import seaborn as sns\n",
    "sns.heatmap(catch_df.corr())"
   ]
  },
  {
   "cell_type": "code",
   "execution_count": 12,
   "id": "d5fc3187",
   "metadata": {},
   "outputs": [
    {
     "data": {
      "text/plain": [
       "<AxesSubplot:>"
      ]
     },
     "execution_count": 12,
     "metadata": {},
     "output_type": "execute_result"
    },
    {
     "data": {
      "image/png": "[encoded data removed]",
      "text/plain": [
       "<Figure size 432x288 with 2 Axes>"
      ]
     },
     "metadata": {
      "needs_background": "light"
     },
     "output_type": "display_data"
    }
   ],
   "source": [
    "sns.heatmap(product_df.corr())"
   ]
  },
  {
   "cell_type": "code",
   "execution_count": 32,
   "id": "7b5802ad",
   "metadata": {},
   "outputs": [],
   "source": []
  }
 ],
 "metadata": {
  "kernelspec": {
   "display_name": "Python 3",
   "language": "python",
   "name": "python3"
  },
  "language_info": {
   "codemirror_mode": {
    "name": "ipython",
    "version": 3
   },
   "file_extension": ".py",
   "mimetype": "text/x-python",
   "name": "python",
   "nbconvert_exporter": "python",
   "pygments_lexer": "ipython3",
   "version": "3.8.8"
  }
 },
 "nbformat": 4,
 "nbformat_minor": 5
}
