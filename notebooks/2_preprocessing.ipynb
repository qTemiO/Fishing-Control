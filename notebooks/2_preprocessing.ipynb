{
 "cells": [
  {
   "cell_type": "markdown",
   "id": "845b51bc",
   "metadata": {},
   "source": [
    "## Импорты и загрузка данных"
   ]
  },
  {
   "cell_type": "code",
   "execution_count": 3,
   "id": "13aa6b9e",
   "metadata": {},
   "outputs": [],
   "source": [
    "import numpy as np\n",
    "import pandas as pd\n",
    "\n",
    "import os"
   ]
  },
  {
   "cell_type": "code",
   "execution_count": 49,
   "id": "c01d8057",
   "metadata": {},
   "outputs": [],
   "source": [
    "path = os.getcwd()\n",
    "\n",
    "fish_df = pd.read_csv(path + r\"\\data\\db1\\ref\\fish.csv\", error_bad_lines=False, sep=';')\n",
    "prod_designate_df = pd.read_csv(path + r\"\\data\\db1\\ref\\prod_designate.csv\", error_bad_lines=False, sep=';')\n",
    "prod_type_df = pd.read_csv(path + r\"\\data\\db1\\ref\\prod_type.csv\", error_bad_lines=False, sep=';')\n",
    "regime_df = pd.read_csv(path + r\"\\data\\db1\\ref\\regime.csv\", error_bad_lines=False, sep=';')\n",
    "region_df = pd.read_csv(path + r\"\\data\\db1\\ref\\region.csv\", error_bad_lines=False, sep=';')\n",
    "\n",
    "\n",
    "catch_df = pd.read_csv(path + r'\\data\\db1\\catch.csv', error_bad_lines=False, sep=',')\n",
    "\n",
    "# Подмена данных + нормализация\n",
    "def spoofing(id):\n",
    "    return fish_df[fish_df['id_fish'] == id]['fish'].values[0]\n",
    "catch_df['fish'] = catch_df['id_fish'].apply(spoofing)\n",
    "catch_df['catch_volume'] = catch_df['catch_volume']*1000\n",
    "\n",
    "product_df = pd.read_csv(path + r'\\data\\db1\\product.csv', error_bad_lines=False, sep=',')\n",
    "\n",
    "ext1 = pd.read_csv(path + r\"\\data\\db2\\Ext.csv\", error_bad_lines=False, sep=',')\n",
    "ext2 = pd.read_csv(path + r\"\\data\\db2\\Ext2.csv\", error_bad_lines=False, sep=',')"
   ]
  },
  {
   "cell_type": "code",
   "execution_count": 51,
   "id": "766207b9",
   "metadata": {},
   "outputs": [],
   "source": [
    "# Сводная таблица по всем поступлениям согласно IdFish и выбранного промежутка времени.\n",
    "def calculatingSummOfFish(fish_id, date_start, date_end):\n",
    "    # смотрим по всем выловам этой рыбы\n",
    "    data = catch_df[catch_df['id_fish'] == fish_id]\n",
    "    # уникальные номера кораблей ловящих только эту рыбу\n",
    "    ships = list(set(data['id_ves'].to_list()))\n",
    "    \n",
    "    # создаю датафрейм с владельцами и выловом по судам    \n",
    "    total_df = pd.DataFrame()\n",
    "    \n",
    "    total_ships = []\n",
    "    total_owners = []\n",
    "    total_catches = []\n",
    "    \n",
    "    # добавляем в общую кашу дату и документируем владельцев\n",
    "    for ship in ships:\n",
    "        ship_data = data[data['id_ves'] == ship]\n",
    "        owners = list(set(ship_data['id_own'].to_list()))\n",
    "        \n",
    "        for owner in owners:\n",
    "            ship_owner_data = ship_data[ship_data['id_own'] == owner]\n",
    "            \n",
    "            try:\n",
    "                ship_owner_end_data = ship_owner_data[ship_owner_data['date'] < date_end]\n",
    "                ship_owner_start_end_data = ship_owner_end_data[ship_owner_end_data['date'] > date_start]\n",
    "                total_catch = ship_owner_start_end_data['catch_volume'].sum()\n",
    "            except e:\n",
    "                print(e)\n",
    "            \n",
    "            if total_catch > 0:\n",
    "                total_catches.append(total_catch)\n",
    "                total_ships.append(ship)\n",
    "                total_owners.append(owner)\n",
    "            \n",
    "    total_df['total_catches'] = total_catches\n",
    "    total_df['ship'] = total_ships\n",
    "    total_df['owner'] = total_owners\n",
    "    \n",
    "    return total_df"
   ]
  },
  {
   "cell_type": "markdown",
   "id": "e2a16d8b",
   "metadata": {},
   "source": [
    "### Поиск аномалий"
   ]
  },
  {
   "cell_type": "markdown",
   "id": "6c2dcc5f",
   "metadata": {},
   "source": [
    "#### Осуществим с помощью вычленения ID рыбы и даты вылова (для простоты возьмем весь период, но можно брать любой промежуток)"
   ]
  },
  {
   "cell_type": "code",
   "execution_count": 44,
   "id": "f2f805c5",
   "metadata": {},
   "outputs": [],
   "source": [
    "fish_id = input('Введите ID рыбы\\n')\n",
    "\n",
    "default_data = (catch_df['date'][0], catch_df['date'][len(catch_df) - 1])\n",
    "start, end = default_data"
   ]
  },
  {
   "cell_type": "markdown",
   "id": "1bd14be3",
   "metadata": {},
   "source": [
    "#### Возьмем уникальный лист владельцев судов"
   ]
  },
  {
   "cell_type": "code",
   "execution_count": 62,
   "id": "06461987",
   "metadata": {},
   "outputs": [],
   "source": [
    "catcher_owners = catch_df['id_own'].unique()\n",
    "traider_owners = ext1['id_own'].unique()\n",
    "\n",
    "market_owners = []\n",
    "for owner in traider_owners:\n",
    "    if owner in catcher_owners:\n",
    "        market_owners.append(owner)  "
   ]
  },
  {
   "cell_type": "code",
   "execution_count": 61,
   "id": "76d235ca",
   "metadata": {},
   "outputs": [
    {
     "name": "stdout",
     "output_type": "stream",
     "text": [
      "350 159 121\n"
     ]
    }
   ],
   "source": [
    "print(len(catcher_owners), len(traider_owners), len(market_owners))"
   ]
  },
  {
   "cell_type": "markdown",
   "id": "c015d4c9",
   "metadata": {},
   "source": [
    "#### Как видим, db2 не полностью покрывает всех владельцев, следовательно, будем использовать для поиска только тех, которые задействованы в обоих БД"
   ]
  },
  {
   "cell_type": "code",
   "execution_count": null,
   "id": "6993adf5",
   "metadata": {},
   "outputs": [],
   "source": []
  },
  {
   "cell_type": "code",
   "execution_count": 45,
   "id": "5255b2ed",
   "metadata": {},
   "outputs": [
    {
     "data": {
      "text/plain": [
       "'2022-01-01'"
      ]
     },
     "execution_count": 45,
     "metadata": {},
     "output_type": "execute_result"
    }
   ],
   "source": [
    "def getAllOwnersIncomings(id, start, end):\n",
    "    "
   ]
  },
  {
   "cell_type": "code",
   "execution_count": 50,
   "id": "b0ceceb1",
   "metadata": {},
   "outputs": [
    {
     "data": {
      "text/html": [
       "<div>\n",
       "<style scoped>\n",
       "    .dataframe tbody tr th:only-of-type {\n",
       "        vertical-align: middle;\n",
       "    }\n",
       "\n",
       "    .dataframe tbody tr th {\n",
       "        vertical-align: top;\n",
       "    }\n",
       "\n",
       "    .dataframe thead th {\n",
       "        text-align: right;\n",
       "    }\n",
       "</style>\n",
       "<table border=\"1\" class=\"dataframe\">\n",
       "  <thead>\n",
       "    <tr style=\"text-align: right;\">\n",
       "      <th></th>\n",
       "      <th>id_ves</th>\n",
       "      <th>date</th>\n",
       "      <th>id_region</th>\n",
       "      <th>id_fish</th>\n",
       "      <th>catch_volume</th>\n",
       "      <th>id_regime</th>\n",
       "      <th>permit</th>\n",
       "      <th>id_own</th>\n",
       "      <th>fish</th>\n",
       "    </tr>\n",
       "  </thead>\n",
       "  <tbody>\n",
       "    <tr>\n",
       "      <th>0</th>\n",
       "      <td>4524386</td>\n",
       "      <td>2022-01-01</td>\n",
       "      <td>272</td>\n",
       "      <td>400</td>\n",
       "      <td>31874.00</td>\n",
       "      <td>41</td>\n",
       "      <td>852296</td>\n",
       "      <td>7115834</td>\n",
       "      <td>минтай</td>\n",
       "    </tr>\n",
       "    <tr>\n",
       "      <th>1</th>\n",
       "      <td>474886</td>\n",
       "      <td>2022-01-01</td>\n",
       "      <td>277</td>\n",
       "      <td>886</td>\n",
       "      <td>476.00</td>\n",
       "      <td>1</td>\n",
       "      <td>5401178</td>\n",
       "      <td>1809581</td>\n",
       "      <td>краб-стригун красный</td>\n",
       "    </tr>\n",
       "    <tr>\n",
       "      <th>2</th>\n",
       "      <td>3160994</td>\n",
       "      <td>2022-01-01</td>\n",
       "      <td>116</td>\n",
       "      <td>409</td>\n",
       "      <td>26310.00</td>\n",
       "      <td>15</td>\n",
       "      <td>3869431</td>\n",
       "      <td>5258490</td>\n",
       "      <td>путассу (северная)</td>\n",
       "    </tr>\n",
       "    <tr>\n",
       "      <th>3</th>\n",
       "      <td>1234400</td>\n",
       "      <td>2022-01-01</td>\n",
       "      <td>272</td>\n",
       "      <td>292</td>\n",
       "      <td>9541.00</td>\n",
       "      <td>1</td>\n",
       "      <td>2169057</td>\n",
       "      <td>1809581</td>\n",
       "      <td>треска</td>\n",
       "    </tr>\n",
       "    <tr>\n",
       "      <th>4</th>\n",
       "      <td>1234400</td>\n",
       "      <td>2022-01-01</td>\n",
       "      <td>272</td>\n",
       "      <td>113</td>\n",
       "      <td>62.00</td>\n",
       "      <td>1</td>\n",
       "      <td>2169057</td>\n",
       "      <td>1809581</td>\n",
       "      <td>палтус черный</td>\n",
       "    </tr>\n",
       "    <tr>\n",
       "      <th>...</th>\n",
       "      <td>...</td>\n",
       "      <td>...</td>\n",
       "      <td>...</td>\n",
       "      <td>...</td>\n",
       "      <td>...</td>\n",
       "      <td>...</td>\n",
       "      <td>...</td>\n",
       "      <td>...</td>\n",
       "      <td>...</td>\n",
       "    </tr>\n",
       "    <tr>\n",
       "      <th>85082</th>\n",
       "      <td>4992471</td>\n",
       "      <td>2022-04-20</td>\n",
       "      <td>108</td>\n",
       "      <td>410</td>\n",
       "      <td>1166.00</td>\n",
       "      <td>18</td>\n",
       "      <td>1518104</td>\n",
       "      <td>8379463</td>\n",
       "      <td>сайда</td>\n",
       "    </tr>\n",
       "    <tr>\n",
       "      <th>85083</th>\n",
       "      <td>7645033</td>\n",
       "      <td>2022-04-20</td>\n",
       "      <td>265</td>\n",
       "      <td>292</td>\n",
       "      <td>1345.00</td>\n",
       "      <td>97</td>\n",
       "      <td>1750243</td>\n",
       "      <td>1002633</td>\n",
       "      <td>треска</td>\n",
       "    </tr>\n",
       "    <tr>\n",
       "      <th>85084</th>\n",
       "      <td>5951077</td>\n",
       "      <td>2022-04-20</td>\n",
       "      <td>507</td>\n",
       "      <td>113</td>\n",
       "      <td>4.00</td>\n",
       "      <td>97</td>\n",
       "      <td>5099847</td>\n",
       "      <td>440996</td>\n",
       "      <td>палтус черный</td>\n",
       "    </tr>\n",
       "    <tr>\n",
       "      <th>85085</th>\n",
       "      <td>5292474</td>\n",
       "      <td>2022-04-20</td>\n",
       "      <td>206</td>\n",
       "      <td>147</td>\n",
       "      <td>505.05</td>\n",
       "      <td>97</td>\n",
       "      <td>229919</td>\n",
       "      <td>7829965</td>\n",
       "      <td>окунь золотистый</td>\n",
       "    </tr>\n",
       "    <tr>\n",
       "      <th>85086</th>\n",
       "      <td>5292474</td>\n",
       "      <td>2022-04-20</td>\n",
       "      <td>206</td>\n",
       "      <td>88</td>\n",
       "      <td>227.36</td>\n",
       "      <td>97</td>\n",
       "      <td>229919</td>\n",
       "      <td>7829965</td>\n",
       "      <td>окунь-клювач</td>\n",
       "    </tr>\n",
       "  </tbody>\n",
       "</table>\n",
       "<p>85087 rows × 9 columns</p>\n",
       "</div>"
      ],
      "text/plain": [
       "        id_ves        date  id_region  id_fish  catch_volume  id_regime  \\\n",
       "0      4524386  2022-01-01        272      400      31874.00         41   \n",
       "1       474886  2022-01-01        277      886        476.00          1   \n",
       "2      3160994  2022-01-01        116      409      26310.00         15   \n",
       "3      1234400  2022-01-01        272      292       9541.00          1   \n",
       "4      1234400  2022-01-01        272      113         62.00          1   \n",
       "...        ...         ...        ...      ...           ...        ...   \n",
       "85082  4992471  2022-04-20        108      410       1166.00         18   \n",
       "85083  7645033  2022-04-20        265      292       1345.00         97   \n",
       "85084  5951077  2022-04-20        507      113          4.00         97   \n",
       "85085  5292474  2022-04-20        206      147        505.05         97   \n",
       "85086  5292474  2022-04-20        206       88        227.36         97   \n",
       "\n",
       "        permit   id_own                  fish  \n",
       "0       852296  7115834                минтай  \n",
       "1      5401178  1809581  краб-стригун красный  \n",
       "2      3869431  5258490    путассу (северная)  \n",
       "3      2169057  1809581                треска  \n",
       "4      2169057  1809581         палтус черный  \n",
       "...        ...      ...                   ...  \n",
       "85082  1518104  8379463                 сайда  \n",
       "85083  1750243  1002633                треска  \n",
       "85084  5099847   440996         палтус черный  \n",
       "85085   229919  7829965      окунь золотистый  \n",
       "85086   229919  7829965          окунь-клювач  \n",
       "\n",
       "[85087 rows x 9 columns]"
      ]
     },
     "execution_count": 50,
     "metadata": {},
     "output_type": "execute_result"
    }
   ],
   "source": [
    "catch_df"
   ]
  },
  {
   "cell_type": "code",
   "execution_count": null,
   "id": "d841c843",
   "metadata": {},
   "outputs": [],
   "source": []
  }
 ],
 "metadata": {
  "kernelspec": {
   "display_name": "Python 3",
   "language": "python",
   "name": "python3"
  },
  "language_info": {
   "codemirror_mode": {
    "name": "ipython",
    "version": 3
   },
   "file_extension": ".py",
   "mimetype": "text/x-python",
   "name": "python",
   "nbconvert_exporter": "python",
   "pygments_lexer": "ipython3",
   "version": "3.8.8"
  }
 },
 "nbformat": 4,
 "nbformat_minor": 5
}
